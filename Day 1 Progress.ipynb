{
 "cells": [
  {
   "cell_type": "markdown",
   "id": "76d42f6c",
   "metadata": {},
   "source": [
    "<p>Name: Jake Antmann <br> Date: 4/12/23 <br> Assignment: Parkday Technical Take-Home </p>"
   ]
  },
  {
   "cell_type": "markdown",
   "id": "3c1ac0ad",
   "metadata": {},
   "source": [
    "<h1> Objectives </h1>"
   ]
  },
  {
   "cell_type": "markdown",
   "id": "78fd785c",
   "metadata": {},
   "source": [
    "<p> The objective of this exercise is to analyze a set of user and meal data and 1) characterize the\n",
    "data for insights, 2) implement meal recommendations, and 3) suggest next steps in a data\n",
    "science pipeline buildout. </p>\n",
    "<p></p>\n",
    "<p> One of the key tasks at Parkday is to incorporate user preference data into our meal\n",
    "recommendations. Our current onboarding process collects data from users such as dietary\n",
    "style, allergens, spice tolerance, food values (sustainability, local, etc.), and fine-grained\n",
    "preference information. The focus of this task is on the fine-grained preference information. </p>\n",
    "<p></p>\n",
    "<p> Your task is to provide us with a data-driven summary of our current user data and meal data\n",
    "and implement meal recommendations, and suggest future directions for data collection,\n",
    "analysis, and recommendation pipelines. </p>"
   ]
  },
  {
   "cell_type": "markdown",
   "id": "67435583",
   "metadata": {},
   "source": [
    "<h1> Importing libraries & reading in dataframes </h1>"
   ]
  },
  {
   "cell_type": "code",
   "execution_count": 1,
   "id": "8fc23070",
   "metadata": {},
   "outputs": [
    {
     "name": "stderr",
     "output_type": "stream",
     "text": [
      "/Users/jantmann17/opt/anaconda3/lib/python3.9/site-packages/scipy/__init__.py:146: UserWarning: A NumPy version >=1.16.5 and <1.23.0 is required for this version of SciPy (detected version 1.23.0\n",
      "  warnings.warn(f\"A NumPy version >={np_minversion} and <{np_maxversion}\"\n"
     ]
    }
   ],
   "source": [
    "# Importing libraries\n",
    "import pandas as pd\n",
    "import numpy as np\n",
    "import matplotlib.pyplot as plt\n",
    "import seaborn as sns\n",
    "\n",
    "# Importing dataframes\n",
    "\n",
    "userdf = pd.read_csv('/Users/jantmann17/Downloads/data_science_task_users.csv')\n",
    "mealdf = pd.read_csv('/Users/jantmann17/Downloads/data_science_task_meals.csv')"
   ]
  },
  {
   "cell_type": "code",
   "execution_count": 2,
   "id": "404af37f",
   "metadata": {},
   "outputs": [
    {
     "data": {
      "text/html": [
       "<div>\n",
       "<style scoped>\n",
       "    .dataframe tbody tr th:only-of-type {\n",
       "        vertical-align: middle;\n",
       "    }\n",
       "\n",
       "    .dataframe tbody tr th {\n",
       "        vertical-align: top;\n",
       "    }\n",
       "\n",
       "    .dataframe thead th {\n",
       "        text-align: right;\n",
       "    }\n",
       "</style>\n",
       "<table border=\"1\" class=\"dataframe\">\n",
       "  <thead>\n",
       "    <tr style=\"text-align: right;\">\n",
       "      <th></th>\n",
       "      <th>Unnamed: 0</th>\n",
       "      <th>user_id</th>\n",
       "      <th>user_name</th>\n",
       "      <th>ingredients</th>\n",
       "    </tr>\n",
       "  </thead>\n",
       "  <tbody>\n",
       "    <tr>\n",
       "      <th>0</th>\n",
       "      <td>0</td>\n",
       "      <td>388</td>\n",
       "      <td>Apple John</td>\n",
       "      <td>['baby radish', 'black garlic', 'cauliflower',...</td>\n",
       "    </tr>\n",
       "    <tr>\n",
       "      <th>1</th>\n",
       "      <td>1</td>\n",
       "      <td>630</td>\n",
       "      <td>Shanelly Bazaldua</td>\n",
       "      <td>['avocado', 'baby radish', 'chicken', 'fingerl...</td>\n",
       "    </tr>\n",
       "    <tr>\n",
       "      <th>2</th>\n",
       "      <td>2</td>\n",
       "      <td>674</td>\n",
       "      <td>Peyton Joseph</td>\n",
       "      <td>['anjou pear', 'avocado', 'baby radish', 'baby...</td>\n",
       "    </tr>\n",
       "    <tr>\n",
       "      <th>3</th>\n",
       "      <td>3</td>\n",
       "      <td>828</td>\n",
       "      <td>Harshani Dharmadasa</td>\n",
       "      <td>['anjou pear', 'baby white turnip', 'black gar...</td>\n",
       "    </tr>\n",
       "    <tr>\n",
       "      <th>4</th>\n",
       "      <td>4</td>\n",
       "      <td>749</td>\n",
       "      <td>Koma Gandy</td>\n",
       "      <td>['aleppo pepper', 'anjou pear', 'avocado', 'ba...</td>\n",
       "    </tr>\n",
       "    <tr>\n",
       "      <th>...</th>\n",
       "      <td>...</td>\n",
       "      <td>...</td>\n",
       "      <td>...</td>\n",
       "      <td>...</td>\n",
       "    </tr>\n",
       "    <tr>\n",
       "      <th>181</th>\n",
       "      <td>181</td>\n",
       "      <td>756</td>\n",
       "      <td>Melvin Skochdopole</td>\n",
       "      <td>['acorn squash', 'asian pears', 'avocado', 'av...</td>\n",
       "    </tr>\n",
       "    <tr>\n",
       "      <th>182</th>\n",
       "      <td>182</td>\n",
       "      <td>779</td>\n",
       "      <td>Stacey Peterson</td>\n",
       "      <td>['avocado', 'baby gem lettuce', 'black garlic'...</td>\n",
       "    </tr>\n",
       "    <tr>\n",
       "      <th>183</th>\n",
       "      <td>183</td>\n",
       "      <td>647</td>\n",
       "      <td>Mark Cartier</td>\n",
       "      <td>['aleppo pepper', 'anjou pear', 'avocado', 'ba...</td>\n",
       "    </tr>\n",
       "    <tr>\n",
       "      <th>184</th>\n",
       "      <td>184</td>\n",
       "      <td>643</td>\n",
       "      <td>Tasha Plonka</td>\n",
       "      <td>['aleppo pepper', 'anjou pear', 'avocado', 'ba...</td>\n",
       "    </tr>\n",
       "    <tr>\n",
       "      <th>185</th>\n",
       "      <td>185</td>\n",
       "      <td>410</td>\n",
       "      <td>Rob Gordon</td>\n",
       "      <td>['broccolini', 'chicken', 'chile oil', 'farro'...</td>\n",
       "    </tr>\n",
       "  </tbody>\n",
       "</table>\n",
       "<p>186 rows × 4 columns</p>\n",
       "</div>"
      ],
      "text/plain": [
       "     Unnamed: 0  user_id            user_name  \\\n",
       "0             0      388           Apple John   \n",
       "1             1      630    Shanelly Bazaldua   \n",
       "2             2      674        Peyton Joseph   \n",
       "3             3      828  Harshani Dharmadasa   \n",
       "4             4      749           Koma Gandy   \n",
       "..          ...      ...                  ...   \n",
       "181         181      756   Melvin Skochdopole   \n",
       "182         182      779      Stacey Peterson   \n",
       "183         183      647         Mark Cartier   \n",
       "184         184      643         Tasha Plonka   \n",
       "185         185      410           Rob Gordon   \n",
       "\n",
       "                                           ingredients  \n",
       "0    ['baby radish', 'black garlic', 'cauliflower',...  \n",
       "1    ['avocado', 'baby radish', 'chicken', 'fingerl...  \n",
       "2    ['anjou pear', 'avocado', 'baby radish', 'baby...  \n",
       "3    ['anjou pear', 'baby white turnip', 'black gar...  \n",
       "4    ['aleppo pepper', 'anjou pear', 'avocado', 'ba...  \n",
       "..                                                 ...  \n",
       "181  ['acorn squash', 'asian pears', 'avocado', 'av...  \n",
       "182  ['avocado', 'baby gem lettuce', 'black garlic'...  \n",
       "183  ['aleppo pepper', 'anjou pear', 'avocado', 'ba...  \n",
       "184  ['aleppo pepper', 'anjou pear', 'avocado', 'ba...  \n",
       "185  ['broccolini', 'chicken', 'chile oil', 'farro'...  \n",
       "\n",
       "[186 rows x 4 columns]"
      ]
     },
     "execution_count": 2,
     "metadata": {},
     "output_type": "execute_result"
    }
   ],
   "source": [
    "userdf"
   ]
  },
  {
   "cell_type": "code",
   "execution_count": 3,
   "id": "a77c9663",
   "metadata": {},
   "outputs": [
    {
     "data": {
      "text/html": [
       "<div>\n",
       "<style scoped>\n",
       "    .dataframe tbody tr th:only-of-type {\n",
       "        vertical-align: middle;\n",
       "    }\n",
       "\n",
       "    .dataframe tbody tr th {\n",
       "        vertical-align: top;\n",
       "    }\n",
       "\n",
       "    .dataframe thead th {\n",
       "        text-align: right;\n",
       "    }\n",
       "</style>\n",
       "<table border=\"1\" class=\"dataframe\">\n",
       "  <thead>\n",
       "    <tr style=\"text-align: right;\">\n",
       "      <th></th>\n",
       "      <th>Unnamed: 0</th>\n",
       "      <th>flavors</th>\n",
       "      <th>id</th>\n",
       "      <th>ingredients</th>\n",
       "      <th>recipeName</th>\n",
       "      <th>cuisine</th>\n",
       "      <th>PrepTime</th>\n",
       "      <th>img</th>\n",
       "    </tr>\n",
       "  </thead>\n",
       "  <tbody>\n",
       "    <tr>\n",
       "      <th>0</th>\n",
       "      <td>0</td>\n",
       "      <td>{'piquant': 0.16666666666666666, 'meaty': 0.16...</td>\n",
       "      <td>Revolutionary-Mac-_-Cheese-1048867</td>\n",
       "      <td>['dried pasta', 'milk', 'shredded cheddar chee...</td>\n",
       "      <td>Revolutionary Mac &amp; Cheese</td>\n",
       "      <td>american</td>\n",
       "      <td>45.0</td>\n",
       "      <td>http://lh3.googleusercontent.com/XR_Pm7z37o_bE...</td>\n",
       "    </tr>\n",
       "    <tr>\n",
       "      <th>1</th>\n",
       "      <td>1</td>\n",
       "      <td>{'piquant': 0.8333333333333334, 'meaty': 0.666...</td>\n",
       "      <td>Chicago-Chicken-822419</td>\n",
       "      <td>['jalapeno chilies', 'lemon', 'dried oregano',...</td>\n",
       "      <td>Chicago Chicken</td>\n",
       "      <td>american</td>\n",
       "      <td>25.0</td>\n",
       "      <td>http://lh4.ggpht.com/MWZwpDEiAwju4NPKBTlx4UItD...</td>\n",
       "    </tr>\n",
       "    <tr>\n",
       "      <th>2</th>\n",
       "      <td>2</td>\n",
       "      <td>NaN</td>\n",
       "      <td>Pork-chops-with-balsamic-glaze-310062</td>\n",
       "      <td>['boneless center cut pork chops', 'salt', 'gr...</td>\n",
       "      <td>Pork Chops with Balsamic Glaze</td>\n",
       "      <td>american</td>\n",
       "      <td>25.0</td>\n",
       "      <td>https://lh3.googleusercontent.com/Li9U8rdiYVI7...</td>\n",
       "    </tr>\n",
       "    <tr>\n",
       "      <th>3</th>\n",
       "      <td>3</td>\n",
       "      <td>{'piquant': 0.6666666666666666, 'meaty': 1.0, ...</td>\n",
       "      <td>Chicken-Avocado-Burgers-1031197</td>\n",
       "      <td>['ground chicken', 'avocado', 'chopped garlic'...</td>\n",
       "      <td>Chicken Avocado Burgers</td>\n",
       "      <td>american</td>\n",
       "      <td>15.0</td>\n",
       "      <td>http://lh3.googleusercontent.com/Sgul-1UaHFREU...</td>\n",
       "    </tr>\n",
       "    <tr>\n",
       "      <th>4</th>\n",
       "      <td>4</td>\n",
       "      <td>NaN</td>\n",
       "      <td>Country-fried-steak-recipe-with-gravy-306991</td>\n",
       "      <td>['steak', 'eggs', 'buttermilk', 'flour', 'vege...</td>\n",
       "      <td>Country Fried Steak Recipe With Gravy</td>\n",
       "      <td>american</td>\n",
       "      <td>40.0</td>\n",
       "      <td>http://lh5.ggpht.com/MI_T7zt3Wk6fyfJkDC4BbJ6Iq...</td>\n",
       "    </tr>\n",
       "    <tr>\n",
       "      <th>...</th>\n",
       "      <td>...</td>\n",
       "      <td>...</td>\n",
       "      <td>...</td>\n",
       "      <td>...</td>\n",
       "      <td>...</td>\n",
       "      <td>...</td>\n",
       "      <td>...</td>\n",
       "      <td>...</td>\n",
       "    </tr>\n",
       "    <tr>\n",
       "      <th>16562</th>\n",
       "      <td>16562</td>\n",
       "      <td>{'piquant': 0.16666666666666666, 'meaty': 0.66...</td>\n",
       "      <td>Fish-Sticks-with-Thai-Peanut-Sauce-1183636</td>\n",
       "      <td>['tilapia fillets', 'panko breadcrumbs', 'coco...</td>\n",
       "      <td>Fish Sticks with Thai Peanut Sauce</td>\n",
       "      <td>thai</td>\n",
       "      <td>25.0</td>\n",
       "      <td>http://lh3.googleusercontent.com/9iE5MT6qkZUzm...</td>\n",
       "    </tr>\n",
       "    <tr>\n",
       "      <th>16563</th>\n",
       "      <td>16563</td>\n",
       "      <td>NaN</td>\n",
       "      <td>Grain-free-Thai-Chicken-Meatballs-with-Coconut...</td>\n",
       "      <td>['dark meat', 'almond flour', 'scallions', 'ga...</td>\n",
       "      <td>Grain-free Thai Chicken Meatballs with Coconut...</td>\n",
       "      <td>thai</td>\n",
       "      <td>45.0</td>\n",
       "      <td>https://lh3.googleusercontent.com/qNA6P8TAZDYC...</td>\n",
       "    </tr>\n",
       "    <tr>\n",
       "      <th>16564</th>\n",
       "      <td>16564</td>\n",
       "      <td>NaN</td>\n",
       "      <td>Thai-Coconut-Chicken-Red-Lentil-Soup-1796917</td>\n",
       "      <td>['olive oil', 'onions', 'red bell pepper', 'ga...</td>\n",
       "      <td>Thai Coconut Chicken Red Lentil Soup</td>\n",
       "      <td>thai</td>\n",
       "      <td>50.0</td>\n",
       "      <td>https://lh3.googleusercontent.com/W9dmUfOGvhjM...</td>\n",
       "    </tr>\n",
       "    <tr>\n",
       "      <th>16565</th>\n",
       "      <td>16565</td>\n",
       "      <td>NaN</td>\n",
       "      <td>Thai-Mushroom-Curry-1801070</td>\n",
       "      <td>['straw mushrooms', 'coconut milk', 'chicken s...</td>\n",
       "      <td>Thai Mushroom Curry</td>\n",
       "      <td>thai</td>\n",
       "      <td>25.0</td>\n",
       "      <td>https://lh3.googleusercontent.com/pBiJkoVqfj5F...</td>\n",
       "    </tr>\n",
       "    <tr>\n",
       "      <th>16566</th>\n",
       "      <td>16566</td>\n",
       "      <td>{'piquant': 0.0, 'meaty': 0.16666666666666666,...</td>\n",
       "      <td>Thai-Red-Curry-Mussels-1781402</td>\n",
       "      <td>['mussels', 'peanut oil', 'garlic', 'minced gi...</td>\n",
       "      <td>Thai Red Curry Mussels</td>\n",
       "      <td>thai</td>\n",
       "      <td>35.0</td>\n",
       "      <td>https://lh3.googleusercontent.com/0lydCPXnUh4N...</td>\n",
       "    </tr>\n",
       "  </tbody>\n",
       "</table>\n",
       "<p>16567 rows × 8 columns</p>\n",
       "</div>"
      ],
      "text/plain": [
       "       Unnamed: 0                                            flavors  \\\n",
       "0               0  {'piquant': 0.16666666666666666, 'meaty': 0.16...   \n",
       "1               1  {'piquant': 0.8333333333333334, 'meaty': 0.666...   \n",
       "2               2                                                NaN   \n",
       "3               3  {'piquant': 0.6666666666666666, 'meaty': 1.0, ...   \n",
       "4               4                                                NaN   \n",
       "...           ...                                                ...   \n",
       "16562       16562  {'piquant': 0.16666666666666666, 'meaty': 0.66...   \n",
       "16563       16563                                                NaN   \n",
       "16564       16564                                                NaN   \n",
       "16565       16565                                                NaN   \n",
       "16566       16566  {'piquant': 0.0, 'meaty': 0.16666666666666666,...   \n",
       "\n",
       "                                                      id  \\\n",
       "0                     Revolutionary-Mac-_-Cheese-1048867   \n",
       "1                                 Chicago-Chicken-822419   \n",
       "2                  Pork-chops-with-balsamic-glaze-310062   \n",
       "3                        Chicken-Avocado-Burgers-1031197   \n",
       "4           Country-fried-steak-recipe-with-gravy-306991   \n",
       "...                                                  ...   \n",
       "16562         Fish-Sticks-with-Thai-Peanut-Sauce-1183636   \n",
       "16563  Grain-free-Thai-Chicken-Meatballs-with-Coconut...   \n",
       "16564       Thai-Coconut-Chicken-Red-Lentil-Soup-1796917   \n",
       "16565                        Thai-Mushroom-Curry-1801070   \n",
       "16566                     Thai-Red-Curry-Mussels-1781402   \n",
       "\n",
       "                                             ingredients  \\\n",
       "0      ['dried pasta', 'milk', 'shredded cheddar chee...   \n",
       "1      ['jalapeno chilies', 'lemon', 'dried oregano',...   \n",
       "2      ['boneless center cut pork chops', 'salt', 'gr...   \n",
       "3      ['ground chicken', 'avocado', 'chopped garlic'...   \n",
       "4      ['steak', 'eggs', 'buttermilk', 'flour', 'vege...   \n",
       "...                                                  ...   \n",
       "16562  ['tilapia fillets', 'panko breadcrumbs', 'coco...   \n",
       "16563  ['dark meat', 'almond flour', 'scallions', 'ga...   \n",
       "16564  ['olive oil', 'onions', 'red bell pepper', 'ga...   \n",
       "16565  ['straw mushrooms', 'coconut milk', 'chicken s...   \n",
       "16566  ['mussels', 'peanut oil', 'garlic', 'minced gi...   \n",
       "\n",
       "                                              recipeName   cuisine  PrepTime  \\\n",
       "0                             Revolutionary Mac & Cheese  american      45.0   \n",
       "1                                        Chicago Chicken  american      25.0   \n",
       "2                         Pork Chops with Balsamic Glaze  american      25.0   \n",
       "3                                Chicken Avocado Burgers  american      15.0   \n",
       "4                  Country Fried Steak Recipe With Gravy  american      40.0   \n",
       "...                                                  ...       ...       ...   \n",
       "16562                 Fish Sticks with Thai Peanut Sauce      thai      25.0   \n",
       "16563  Grain-free Thai Chicken Meatballs with Coconut...      thai      45.0   \n",
       "16564               Thai Coconut Chicken Red Lentil Soup      thai      50.0   \n",
       "16565                                Thai Mushroom Curry      thai      25.0   \n",
       "16566                             Thai Red Curry Mussels      thai      35.0   \n",
       "\n",
       "                                                     img  \n",
       "0      http://lh3.googleusercontent.com/XR_Pm7z37o_bE...  \n",
       "1      http://lh4.ggpht.com/MWZwpDEiAwju4NPKBTlx4UItD...  \n",
       "2      https://lh3.googleusercontent.com/Li9U8rdiYVI7...  \n",
       "3      http://lh3.googleusercontent.com/Sgul-1UaHFREU...  \n",
       "4      http://lh5.ggpht.com/MI_T7zt3Wk6fyfJkDC4BbJ6Iq...  \n",
       "...                                                  ...  \n",
       "16562  http://lh3.googleusercontent.com/9iE5MT6qkZUzm...  \n",
       "16563  https://lh3.googleusercontent.com/qNA6P8TAZDYC...  \n",
       "16564  https://lh3.googleusercontent.com/W9dmUfOGvhjM...  \n",
       "16565  https://lh3.googleusercontent.com/pBiJkoVqfj5F...  \n",
       "16566  https://lh3.googleusercontent.com/0lydCPXnUh4N...  \n",
       "\n",
       "[16567 rows x 8 columns]"
      ]
     },
     "execution_count": 3,
     "metadata": {},
     "output_type": "execute_result"
    }
   ],
   "source": [
    "mealdf"
   ]
  },
  {
   "cell_type": "markdown",
   "id": "8a79dfcd",
   "metadata": {},
   "source": [
    "<h1> Cleaning & Preprocessing </h1>"
   ]
  },
  {
   "cell_type": "code",
   "execution_count": 4,
   "id": "852a429c",
   "metadata": {},
   "outputs": [],
   "source": [
    "# The index column for both datasets read in as \"Unnamed: 0\" which is not helpful, so I will remove it\n",
    "userdf = userdf.drop('Unnamed: 0', axis = 1)\n",
    "mealdf = mealdf.drop('Unnamed: 0', axis = 1)"
   ]
  },
  {
   "cell_type": "code",
   "execution_count": 5,
   "id": "8a11bedc",
   "metadata": {},
   "outputs": [
    {
     "data": {
      "text/html": [
       "<div>\n",
       "<style scoped>\n",
       "    .dataframe tbody tr th:only-of-type {\n",
       "        vertical-align: middle;\n",
       "    }\n",
       "\n",
       "    .dataframe tbody tr th {\n",
       "        vertical-align: top;\n",
       "    }\n",
       "\n",
       "    .dataframe thead th {\n",
       "        text-align: right;\n",
       "    }\n",
       "</style>\n",
       "<table border=\"1\" class=\"dataframe\">\n",
       "  <thead>\n",
       "    <tr style=\"text-align: right;\">\n",
       "      <th></th>\n",
       "      <th>flavors</th>\n",
       "      <th>meal_id</th>\n",
       "      <th>ingredients</th>\n",
       "      <th>recipeName</th>\n",
       "      <th>cuisine</th>\n",
       "      <th>PrepTime</th>\n",
       "      <th>img</th>\n",
       "    </tr>\n",
       "  </thead>\n",
       "  <tbody>\n",
       "    <tr>\n",
       "      <th>0</th>\n",
       "      <td>{'piquant': 0.16666666666666666, 'meaty': 0.16...</td>\n",
       "      <td>Revolutionary-Mac-_-Cheese-1048867</td>\n",
       "      <td>['dried pasta', 'milk', 'shredded cheddar chee...</td>\n",
       "      <td>Revolutionary Mac &amp; Cheese</td>\n",
       "      <td>american</td>\n",
       "      <td>45.0</td>\n",
       "      <td>http://lh3.googleusercontent.com/XR_Pm7z37o_bE...</td>\n",
       "    </tr>\n",
       "    <tr>\n",
       "      <th>1</th>\n",
       "      <td>{'piquant': 0.8333333333333334, 'meaty': 0.666...</td>\n",
       "      <td>Chicago-Chicken-822419</td>\n",
       "      <td>['jalapeno chilies', 'lemon', 'dried oregano',...</td>\n",
       "      <td>Chicago Chicken</td>\n",
       "      <td>american</td>\n",
       "      <td>25.0</td>\n",
       "      <td>http://lh4.ggpht.com/MWZwpDEiAwju4NPKBTlx4UItD...</td>\n",
       "    </tr>\n",
       "    <tr>\n",
       "      <th>2</th>\n",
       "      <td>NaN</td>\n",
       "      <td>Pork-chops-with-balsamic-glaze-310062</td>\n",
       "      <td>['boneless center cut pork chops', 'salt', 'gr...</td>\n",
       "      <td>Pork Chops with Balsamic Glaze</td>\n",
       "      <td>american</td>\n",
       "      <td>25.0</td>\n",
       "      <td>https://lh3.googleusercontent.com/Li9U8rdiYVI7...</td>\n",
       "    </tr>\n",
       "    <tr>\n",
       "      <th>3</th>\n",
       "      <td>{'piquant': 0.6666666666666666, 'meaty': 1.0, ...</td>\n",
       "      <td>Chicken-Avocado-Burgers-1031197</td>\n",
       "      <td>['ground chicken', 'avocado', 'chopped garlic'...</td>\n",
       "      <td>Chicken Avocado Burgers</td>\n",
       "      <td>american</td>\n",
       "      <td>15.0</td>\n",
       "      <td>http://lh3.googleusercontent.com/Sgul-1UaHFREU...</td>\n",
       "    </tr>\n",
       "    <tr>\n",
       "      <th>4</th>\n",
       "      <td>NaN</td>\n",
       "      <td>Country-fried-steak-recipe-with-gravy-306991</td>\n",
       "      <td>['steak', 'eggs', 'buttermilk', 'flour', 'vege...</td>\n",
       "      <td>Country Fried Steak Recipe With Gravy</td>\n",
       "      <td>american</td>\n",
       "      <td>40.0</td>\n",
       "      <td>http://lh5.ggpht.com/MI_T7zt3Wk6fyfJkDC4BbJ6Iq...</td>\n",
       "    </tr>\n",
       "  </tbody>\n",
       "</table>\n",
       "</div>"
      ],
      "text/plain": [
       "                                             flavors  \\\n",
       "0  {'piquant': 0.16666666666666666, 'meaty': 0.16...   \n",
       "1  {'piquant': 0.8333333333333334, 'meaty': 0.666...   \n",
       "2                                                NaN   \n",
       "3  {'piquant': 0.6666666666666666, 'meaty': 1.0, ...   \n",
       "4                                                NaN   \n",
       "\n",
       "                                        meal_id  \\\n",
       "0            Revolutionary-Mac-_-Cheese-1048867   \n",
       "1                        Chicago-Chicken-822419   \n",
       "2         Pork-chops-with-balsamic-glaze-310062   \n",
       "3               Chicken-Avocado-Burgers-1031197   \n",
       "4  Country-fried-steak-recipe-with-gravy-306991   \n",
       "\n",
       "                                         ingredients  \\\n",
       "0  ['dried pasta', 'milk', 'shredded cheddar chee...   \n",
       "1  ['jalapeno chilies', 'lemon', 'dried oregano',...   \n",
       "2  ['boneless center cut pork chops', 'salt', 'gr...   \n",
       "3  ['ground chicken', 'avocado', 'chopped garlic'...   \n",
       "4  ['steak', 'eggs', 'buttermilk', 'flour', 'vege...   \n",
       "\n",
       "                              recipeName   cuisine  PrepTime  \\\n",
       "0             Revolutionary Mac & Cheese  american      45.0   \n",
       "1                        Chicago Chicken  american      25.0   \n",
       "2         Pork Chops with Balsamic Glaze  american      25.0   \n",
       "3                Chicken Avocado Burgers  american      15.0   \n",
       "4  Country Fried Steak Recipe With Gravy  american      40.0   \n",
       "\n",
       "                                                 img  \n",
       "0  http://lh3.googleusercontent.com/XR_Pm7z37o_bE...  \n",
       "1  http://lh4.ggpht.com/MWZwpDEiAwju4NPKBTlx4UItD...  \n",
       "2  https://lh3.googleusercontent.com/Li9U8rdiYVI7...  \n",
       "3  http://lh3.googleusercontent.com/Sgul-1UaHFREU...  \n",
       "4  http://lh5.ggpht.com/MI_T7zt3Wk6fyfJkDC4BbJ6Iq...  "
      ]
     },
     "execution_count": 5,
     "metadata": {},
     "output_type": "execute_result"
    }
   ],
   "source": [
    "# I'm going to rename the 'id' column for the meal data to make it easier to aggregate on and compare to user data\n",
    "mealdf = mealdf.rename(columns={'id' : 'meal_id'})\n",
    "mealdf.head()"
   ]
  },
  {
   "cell_type": "markdown",
   "id": "42a3ae3e",
   "metadata": {},
   "source": [
    "It appears that the meal_id values contain information already provided in recipeName. I will make it easier to distinguish between meal_ids by reducing it to the id number."
   ]
  },
  {
   "cell_type": "code",
   "execution_count": 6,
   "id": "44cf2018",
   "metadata": {},
   "outputs": [
    {
     "name": "stdout",
     "output_type": "stream",
     "text": [
      "Revolutionary-Mac-_-Cheese-1048867\n",
      "1048867\n"
     ]
    }
   ],
   "source": [
    "# Testing for one value\n",
    "testid = mealdf['meal_id'][0]\n",
    "splittestid = testid.split('-')[-1]\n",
    "print(testid) # Original value\n",
    "print(splittestid) # New value"
   ]
  },
  {
   "cell_type": "code",
   "execution_count": 7,
   "id": "0a1f5256",
   "metadata": {},
   "outputs": [],
   "source": [
    "# Applying to all the values of meal_id\n",
    "\n",
    "# Creating a function that splits the meal_id in the manner displayed above, leaving only the #\n",
    "def id_string(x) :\n",
    "    new_x = x.split('-')[-1]\n",
    "    return new_x\n",
    "\n",
    "# Applying new function that splits the meal_id and making it such that the number takes on those values in the column\n",
    "mealdf['meal_id'] = mealdf['meal_id'].apply(id_string)"
   ]
  },
  {
   "cell_type": "code",
   "execution_count": 8,
   "id": "f3906354",
   "metadata": {},
   "outputs": [
    {
     "name": "stdout",
     "output_type": "stream",
     "text": [
      "userdf length: 186\n",
      "mealdf length: 16567 \n",
      "\n",
      "userdf missing values\n",
      "user_id        0\n",
      "user_name      0\n",
      "ingredients    0\n",
      "dtype: int64\n",
      "\n",
      "mealdf missing values\n",
      "flavors        5046\n",
      "meal_id           0\n",
      "ingredients       0\n",
      "recipeName        0\n",
      "cuisine           0\n",
      "PrepTime          0\n",
      "img               0\n",
      "dtype: int64\n",
      "\n"
     ]
    }
   ],
   "source": [
    "### Taking a peek at some qualities of each dataset\n",
    "\n",
    "# Length of each dataset\n",
    "print('userdf length:', len(userdf))\n",
    "print('mealdf length:', len(mealdf), '\\n')\n",
    "\n",
    "# Missing values for each dataset\n",
    "print('userdf missing values', userdf.isna().sum(), sep = '\\n')\n",
    "print()\n",
    "print('mealdf missing values', mealdf.isna().sum(), sep = '\\n')\n",
    "print()\n",
    "\n",
    "# I see that the only column that contains missing values is flavors of the meal dataset. I'll return to this later."
   ]
  },
  {
   "cell_type": "markdown",
   "id": "2a84429c",
   "metadata": {},
   "source": [
    "I'm going to look through the features of each data set one by one to start off and try to identify if there \n",
    "will be any potential trouble points, as well as move some data around to make it easier to extract what I would\n",
    "like to look at."
   ]
  },
  {
   "cell_type": "markdown",
   "id": "5ddde262",
   "metadata": {},
   "source": [
    "<h3> Ingredients </h3>"
   ]
  },
  {
   "cell_type": "code",
   "execution_count": 9,
   "id": "c097b2de",
   "metadata": {},
   "outputs": [
    {
     "name": "stdout",
     "output_type": "stream",
     "text": [
      "['baby radish', 'black garlic', 'cauliflower', 'cauliflower steak', 'chicken', 'dover sole', 'fingerling potato', 'fuji apple relish', 'garlic chive', 'herbs', 'lamb', 'oregano', 'parmesan cheese', 'parsnip mousseline', 'rigatoni', 'rigatoni with braised lamb', 'roasted chicken', 'sautéed dover sole with fuji apple relish', 'shallot', 'toasted almonds']\n",
      "['dried pasta', 'milk', 'shredded cheddar cheese', 'salt', 'dijon mustard']\n"
     ]
    }
   ],
   "source": [
    "# Quick look at ingredients column for both user data and meal data\n",
    "print(userdf['ingredients'][0])\n",
    "\n",
    "print(mealdf['ingredients'][0])"
   ]
  },
  {
   "cell_type": "code",
   "execution_count": 10,
   "id": "a448513c",
   "metadata": {},
   "outputs": [
    {
     "name": "stdout",
     "output_type": "stream",
     "text": [
      "{<class 'str'>: 186}\n",
      "{<class 'str'>: 16567}\n"
     ]
    }
   ],
   "source": [
    "# Making sure each row is a list as seen above for user data\n",
    "type_counts1 = {}\n",
    "\n",
    "for x in userdf['ingredients']:\n",
    "    xtype = type(x)\n",
    "    if xtype not in type_counts1:\n",
    "        type_counts1[xtype] = 1\n",
    "    else:\n",
    "        type_counts1[xtype] += 1\n",
    "\n",
    "print(type_counts1)\n",
    "\n",
    "# Repeating the process for meal data\n",
    "type_counts2 = {}\n",
    "\n",
    "for x in mealdf['ingredients']:\n",
    "    xtype = type(x)\n",
    "    if xtype not in type_counts2:\n",
    "        type_counts2[xtype] = 1\n",
    "    else:\n",
    "        type_counts2[xtype] += 1\n",
    "\n",
    "print(type_counts2)"
   ]
  },
  {
   "cell_type": "markdown",
   "id": "1f357ba7",
   "metadata": {},
   "source": [
    "<p> I was surprised to find that instead of being lists as it originally appeared, the ingredients column contained \n",
    "values that appeared as lists but were actually strings.</p>\n",
    "<p></p>\n",
    "<p> At this point I did some searching on the web to see if there was a module to make this any easier. I found the 'ast'module-- standing for \"abstract syntax trees\". I could use this to easily make this sneaky strings into proper lists. </p>"
   ]
  },
  {
   "cell_type": "code",
   "execution_count": 11,
   "id": "20fc303a",
   "metadata": {},
   "outputs": [
    {
     "name": "stdout",
     "output_type": "stream",
     "text": [
      "['avocado', 'baby radish', 'black garlic', 'cauliflower', 'cauliflower steak', 'celery leaf', 'chicken', 'chilled white asparagus', 'cilantro', 'fingerling potato', 'manchego cheese', 'oregano', 'parsnip mousseline', 'roasted chicken', 'toasted almonds', 'white asparagus', 'white truffle dressing']\n",
      "The above object is <class 'str'>\n",
      "['avocado', 'baby radish', 'black garlic', 'cauliflower', 'cauliflower steak', 'celery leaf', 'chicken', 'chilled white asparagus', 'cilantro', 'fingerling potato', 'manchego cheese', 'oregano', 'parsnip mousseline', 'roasted chicken', 'toasted almonds', 'white asparagus', 'white truffle dressing']\n",
      "The above object is <class 'list'>\n"
     ]
    }
   ],
   "source": [
    "import ast\n",
    "\n",
    "# Testing process of converting these strings to lists with one row\n",
    "test_str = userdf['ingredients'][100]\n",
    "test_list = ast.literal_eval(test_str)\n",
    "print(test_str) # printing the baseline -- what the value of the ingredients column looks like\n",
    "print(\"The above object is\", type(test_str)) # printing the data type of that baseline\n",
    "\n",
    "print(test_list) # printing following the conversion to a list, ensure that it looks the same\n",
    "print(\"The above object is\", type(test_list)) # confirming that the data type has changed to list"
   ]
  },
  {
   "cell_type": "code",
   "execution_count": 12,
   "id": "418330bd",
   "metadata": {},
   "outputs": [],
   "source": [
    "# Apply the above process to each value of the ingredients column\n",
    "userdf['ingredients'] = userdf['ingredients'].apply(ast.literal_eval)"
   ]
  },
  {
   "cell_type": "code",
   "execution_count": 13,
   "id": "45fece26",
   "metadata": {},
   "outputs": [
    {
     "name": "stdout",
     "output_type": "stream",
     "text": [
      "0\n"
     ]
    }
   ],
   "source": [
    "# Checking that the above apply function has successfully converted each value in the column to a list\n",
    "troublecount1 = 0\n",
    "for x in userdf['ingredients'] :\n",
    "    if not isinstance(x, list):\n",
    "        troublecount1 += 1\n",
    "print(troublecount1)"
   ]
  },
  {
   "cell_type": "markdown",
   "id": "3ba43ff7",
   "metadata": {},
   "source": [
    "Because this printed with a value of 0, this indicates all values in this column are a list\n",
    "<p></p>"
   ]
  },
  {
   "cell_type": "code",
   "execution_count": 14,
   "id": "e3ae7da3",
   "metadata": {},
   "outputs": [],
   "source": [
    "# The string vs list issue has been fixed for the user data-- now let's fix the meal data\n",
    "mealdf['ingredients'] = mealdf['ingredients'].apply(ast.literal_eval)"
   ]
  },
  {
   "cell_type": "code",
   "execution_count": 15,
   "id": "2cb0fb65",
   "metadata": {},
   "outputs": [
    {
     "name": "stdout",
     "output_type": "stream",
     "text": [
      "0\n"
     ]
    }
   ],
   "source": [
    "# Checking that the above apply function has successfully converted each value in the column to a list\n",
    "troublecount2 = 0 \n",
    "for x in userdf['ingredients'] :\n",
    "    if not isinstance(x, list):\n",
    "        troublecount2 += 1\n",
    "print(troublecount2) "
   ]
  },
  {
   "cell_type": "markdown",
   "id": "721709c1",
   "metadata": {},
   "source": [
    "Because this printed with a value of 0, this indicates all values in this column are a list."
   ]
  },
  {
   "cell_type": "markdown",
   "id": "d9c52ef1",
   "metadata": {},
   "source": [
    "<h3> Flavors </h3>"
   ]
  },
  {
   "cell_type": "markdown",
   "id": "3b5b7d94",
   "metadata": {},
   "source": [
    "This is where we saw some missing values, so we have a decision to make as to how we want to proceed. "
   ]
  },
  {
   "cell_type": "code",
   "execution_count": 16,
   "id": "233f358f",
   "metadata": {},
   "outputs": [
    {
     "name": "stdout",
     "output_type": "stream",
     "text": [
      "{<class 'str'>: 11521, <class 'float'>: 5046}\n"
     ]
    }
   ],
   "source": [
    "# Using method previously employed to examine the data types for the flavor column\n",
    "type_counts3 = {}\n",
    "\n",
    "for x in mealdf['flavors']:\n",
    "    xtype = type(x)\n",
    "    if xtype not in type_counts3:\n",
    "        type_counts3[xtype] = 1\n",
    "    else:\n",
    "        type_counts3[xtype] += 1\n",
    "\n",
    "print(type_counts3)"
   ]
  },
  {
   "cell_type": "markdown",
   "id": "d820a65e",
   "metadata": {},
   "source": [
    "<p> We see that there are 5046 floats, the same number of null values found previously. This is because 'nan' in python is classified as a float. </p>\n",
    "<p></p>\n",
    "<p> We also see that the rest of the values for the flavors column are strings. However, based on looking at the dataframe before, we can see that these points really are dictionaries, associating some sort of score out of 1 to each flavor listed for each meal. Thus, we need to properly convert them to dictionaries as we had done with lists for ingredients. </p>\n",
    "<p></p> \n",
    "<p> Because the rest of the values in the flavors column will be dictionaries and the number of rows with missing values for it (nearly a third of the data) is so high, we cannot simply drop these datapoints. It also doesn't make sense to impute them based on the fact that they are dictionaries with different keys in each, and even if they did all have the same keys, setting the flavor score as something like the mean or median could be very misrepresentative dependent on the meal. The best option here appears to be to fill these missing values with empty dictionaries. </p>\n",
    "<p></p>\n",
    "<p> Once we fill with empty dictionaries, then we can convert all of the rows to actual dictionaries instead of strings that look like dictionaries. </p>"
   ]
  },
  {
   "cell_type": "code",
   "execution_count": 17,
   "id": "d7507739",
   "metadata": {},
   "outputs": [],
   "source": [
    "# Filling the nan values with strings that look like empty dictionaries to make the next step easier\n",
    "mealdf['flavors'] = mealdf['flavors'].fillna('{}')"
   ]
  },
  {
   "cell_type": "code",
   "execution_count": 18,
   "id": "07520c44",
   "metadata": {},
   "outputs": [],
   "source": [
    "# Using ast module to convert strings to dictionaries\n",
    "mealdf['flavors'] = mealdf['flavors'].apply(ast.literal_eval)"
   ]
  },
  {
   "cell_type": "code",
   "execution_count": 19,
   "id": "dad807c7",
   "metadata": {},
   "outputs": [
    {
     "name": "stdout",
     "output_type": "stream",
     "text": [
      "0\n"
     ]
    }
   ],
   "source": [
    "# Again checking that all of the rows have properly been converted to dictionaries\n",
    "troublecount3 = 0 \n",
    "for x in mealdf['flavors'] :\n",
    "    if not isinstance(x, dict):\n",
    "        troublecount3 += 1\n",
    "print(troublecount3) # Because this printed with a value of 0, this indicates all values in this column are a dictonary"
   ]
  },
  {
   "cell_type": "markdown",
   "id": "9d934695",
   "metadata": {},
   "source": [
    "Now, all of the missing values have been addressed as we filled them with empty dictionaries, and all of the rows that were strings disguised as dictionaries are properly dictionaries."
   ]
  },
  {
   "cell_type": "markdown",
   "id": "d347dbcb",
   "metadata": {},
   "source": [
    "<h1> Some exploratory data analysis </h1>"
   ]
  },
  {
   "cell_type": "code",
   "execution_count": 20,
   "id": "d43c3024",
   "metadata": {},
   "outputs": [
    {
     "data": {
      "text/html": [
       "<div>\n",
       "<style scoped>\n",
       "    .dataframe tbody tr th:only-of-type {\n",
       "        vertical-align: middle;\n",
       "    }\n",
       "\n",
       "    .dataframe tbody tr th {\n",
       "        vertical-align: top;\n",
       "    }\n",
       "\n",
       "    .dataframe thead th {\n",
       "        text-align: right;\n",
       "    }\n",
       "</style>\n",
       "<table border=\"1\" class=\"dataframe\">\n",
       "  <thead>\n",
       "    <tr style=\"text-align: right;\">\n",
       "      <th></th>\n",
       "      <th>user_id</th>\n",
       "      <th>user_name</th>\n",
       "      <th>ingredients</th>\n",
       "    </tr>\n",
       "  </thead>\n",
       "  <tbody>\n",
       "    <tr>\n",
       "      <th>0</th>\n",
       "      <td>388</td>\n",
       "      <td>Apple John</td>\n",
       "      <td>[baby radish, black garlic, cauliflower, cauli...</td>\n",
       "    </tr>\n",
       "    <tr>\n",
       "      <th>1</th>\n",
       "      <td>630</td>\n",
       "      <td>Shanelly Bazaldua</td>\n",
       "      <td>[avocado, baby radish, chicken, fingerling pot...</td>\n",
       "    </tr>\n",
       "    <tr>\n",
       "      <th>2</th>\n",
       "      <td>674</td>\n",
       "      <td>Peyton Joseph</td>\n",
       "      <td>[anjou pear, avocado, baby radish, baby white ...</td>\n",
       "    </tr>\n",
       "    <tr>\n",
       "      <th>3</th>\n",
       "      <td>828</td>\n",
       "      <td>Harshani Dharmadasa</td>\n",
       "      <td>[anjou pear, baby white turnip, black garlic, ...</td>\n",
       "    </tr>\n",
       "    <tr>\n",
       "      <th>4</th>\n",
       "      <td>749</td>\n",
       "      <td>Koma Gandy</td>\n",
       "      <td>[aleppo pepper, anjou pear, avocado, baby caul...</td>\n",
       "    </tr>\n",
       "    <tr>\n",
       "      <th>...</th>\n",
       "      <td>...</td>\n",
       "      <td>...</td>\n",
       "      <td>...</td>\n",
       "    </tr>\n",
       "    <tr>\n",
       "      <th>181</th>\n",
       "      <td>756</td>\n",
       "      <td>Melvin Skochdopole</td>\n",
       "      <td>[acorn squash, asian pears, avocado, avocado t...</td>\n",
       "    </tr>\n",
       "    <tr>\n",
       "      <th>182</th>\n",
       "      <td>779</td>\n",
       "      <td>Stacey Peterson</td>\n",
       "      <td>[avocado, baby gem lettuce, black garlic, broc...</td>\n",
       "    </tr>\n",
       "    <tr>\n",
       "      <th>183</th>\n",
       "      <td>647</td>\n",
       "      <td>Mark Cartier</td>\n",
       "      <td>[aleppo pepper, anjou pear, avocado, baby caul...</td>\n",
       "    </tr>\n",
       "    <tr>\n",
       "      <th>184</th>\n",
       "      <td>643</td>\n",
       "      <td>Tasha Plonka</td>\n",
       "      <td>[aleppo pepper, anjou pear, avocado, baby caul...</td>\n",
       "    </tr>\n",
       "    <tr>\n",
       "      <th>185</th>\n",
       "      <td>410</td>\n",
       "      <td>Rob Gordon</td>\n",
       "      <td>[broccolini, chicken, chile oil, farro, hazeln...</td>\n",
       "    </tr>\n",
       "  </tbody>\n",
       "</table>\n",
       "<p>186 rows × 3 columns</p>\n",
       "</div>"
      ],
      "text/plain": [
       "     user_id            user_name  \\\n",
       "0        388           Apple John   \n",
       "1        630    Shanelly Bazaldua   \n",
       "2        674        Peyton Joseph   \n",
       "3        828  Harshani Dharmadasa   \n",
       "4        749           Koma Gandy   \n",
       "..       ...                  ...   \n",
       "181      756   Melvin Skochdopole   \n",
       "182      779      Stacey Peterson   \n",
       "183      647         Mark Cartier   \n",
       "184      643         Tasha Plonka   \n",
       "185      410           Rob Gordon   \n",
       "\n",
       "                                           ingredients  \n",
       "0    [baby radish, black garlic, cauliflower, cauli...  \n",
       "1    [avocado, baby radish, chicken, fingerling pot...  \n",
       "2    [anjou pear, avocado, baby radish, baby white ...  \n",
       "3    [anjou pear, baby white turnip, black garlic, ...  \n",
       "4    [aleppo pepper, anjou pear, avocado, baby caul...  \n",
       "..                                                 ...  \n",
       "181  [acorn squash, asian pears, avocado, avocado t...  \n",
       "182  [avocado, baby gem lettuce, black garlic, broc...  \n",
       "183  [aleppo pepper, anjou pear, avocado, baby caul...  \n",
       "184  [aleppo pepper, anjou pear, avocado, baby caul...  \n",
       "185  [broccolini, chicken, chile oil, farro, hazeln...  \n",
       "\n",
       "[186 rows x 3 columns]"
      ]
     },
     "execution_count": 20,
     "metadata": {},
     "output_type": "execute_result"
    }
   ],
   "source": [
    "userdf"
   ]
  },
  {
   "cell_type": "code",
   "execution_count": 21,
   "id": "d3c3d21a",
   "metadata": {},
   "outputs": [
    {
     "data": {
      "text/html": [
       "<div>\n",
       "<style scoped>\n",
       "    .dataframe tbody tr th:only-of-type {\n",
       "        vertical-align: middle;\n",
       "    }\n",
       "\n",
       "    .dataframe tbody tr th {\n",
       "        vertical-align: top;\n",
       "    }\n",
       "\n",
       "    .dataframe thead th {\n",
       "        text-align: right;\n",
       "    }\n",
       "</style>\n",
       "<table border=\"1\" class=\"dataframe\">\n",
       "  <thead>\n",
       "    <tr style=\"text-align: right;\">\n",
       "      <th></th>\n",
       "      <th>flavors</th>\n",
       "      <th>meal_id</th>\n",
       "      <th>ingredients</th>\n",
       "      <th>recipeName</th>\n",
       "      <th>cuisine</th>\n",
       "      <th>PrepTime</th>\n",
       "      <th>img</th>\n",
       "    </tr>\n",
       "  </thead>\n",
       "  <tbody>\n",
       "    <tr>\n",
       "      <th>0</th>\n",
       "      <td>{'piquant': 0.16666666666666666, 'meaty': 0.16...</td>\n",
       "      <td>1048867</td>\n",
       "      <td>[dried pasta, milk, shredded cheddar cheese, s...</td>\n",
       "      <td>Revolutionary Mac &amp; Cheese</td>\n",
       "      <td>american</td>\n",
       "      <td>45.0</td>\n",
       "      <td>http://lh3.googleusercontent.com/XR_Pm7z37o_bE...</td>\n",
       "    </tr>\n",
       "    <tr>\n",
       "      <th>1</th>\n",
       "      <td>{'piquant': 0.8333333333333334, 'meaty': 0.666...</td>\n",
       "      <td>822419</td>\n",
       "      <td>[jalapeno chilies, lemon, dried oregano, olive...</td>\n",
       "      <td>Chicago Chicken</td>\n",
       "      <td>american</td>\n",
       "      <td>25.0</td>\n",
       "      <td>http://lh4.ggpht.com/MWZwpDEiAwju4NPKBTlx4UItD...</td>\n",
       "    </tr>\n",
       "    <tr>\n",
       "      <th>2</th>\n",
       "      <td>{}</td>\n",
       "      <td>310062</td>\n",
       "      <td>[boneless center cut pork chops, salt, ground ...</td>\n",
       "      <td>Pork Chops with Balsamic Glaze</td>\n",
       "      <td>american</td>\n",
       "      <td>25.0</td>\n",
       "      <td>https://lh3.googleusercontent.com/Li9U8rdiYVI7...</td>\n",
       "    </tr>\n",
       "    <tr>\n",
       "      <th>3</th>\n",
       "      <td>{'piquant': 0.6666666666666666, 'meaty': 1.0, ...</td>\n",
       "      <td>1031197</td>\n",
       "      <td>[ground chicken, avocado, chopped garlic, pank...</td>\n",
       "      <td>Chicken Avocado Burgers</td>\n",
       "      <td>american</td>\n",
       "      <td>15.0</td>\n",
       "      <td>http://lh3.googleusercontent.com/Sgul-1UaHFREU...</td>\n",
       "    </tr>\n",
       "    <tr>\n",
       "      <th>4</th>\n",
       "      <td>{}</td>\n",
       "      <td>306991</td>\n",
       "      <td>[steak, eggs, buttermilk, flour, vegetable oil...</td>\n",
       "      <td>Country Fried Steak Recipe With Gravy</td>\n",
       "      <td>american</td>\n",
       "      <td>40.0</td>\n",
       "      <td>http://lh5.ggpht.com/MI_T7zt3Wk6fyfJkDC4BbJ6Iq...</td>\n",
       "    </tr>\n",
       "    <tr>\n",
       "      <th>...</th>\n",
       "      <td>...</td>\n",
       "      <td>...</td>\n",
       "      <td>...</td>\n",
       "      <td>...</td>\n",
       "      <td>...</td>\n",
       "      <td>...</td>\n",
       "      <td>...</td>\n",
       "    </tr>\n",
       "    <tr>\n",
       "      <th>16562</th>\n",
       "      <td>{'piquant': 0.16666666666666666, 'meaty': 0.66...</td>\n",
       "      <td>1183636</td>\n",
       "      <td>[tilapia fillets, panko breadcrumbs, coconut m...</td>\n",
       "      <td>Fish Sticks with Thai Peanut Sauce</td>\n",
       "      <td>thai</td>\n",
       "      <td>25.0</td>\n",
       "      <td>http://lh3.googleusercontent.com/9iE5MT6qkZUzm...</td>\n",
       "    </tr>\n",
       "    <tr>\n",
       "      <th>16563</th>\n",
       "      <td>{}</td>\n",
       "      <td>2058860</td>\n",
       "      <td>[dark meat, almond flour, scallions, garlic, f...</td>\n",
       "      <td>Grain-free Thai Chicken Meatballs with Coconut...</td>\n",
       "      <td>thai</td>\n",
       "      <td>45.0</td>\n",
       "      <td>https://lh3.googleusercontent.com/qNA6P8TAZDYC...</td>\n",
       "    </tr>\n",
       "    <tr>\n",
       "      <th>16564</th>\n",
       "      <td>{}</td>\n",
       "      <td>1796917</td>\n",
       "      <td>[olive oil, onions, red bell pepper, garlic, y...</td>\n",
       "      <td>Thai Coconut Chicken Red Lentil Soup</td>\n",
       "      <td>thai</td>\n",
       "      <td>50.0</td>\n",
       "      <td>https://lh3.googleusercontent.com/W9dmUfOGvhjM...</td>\n",
       "    </tr>\n",
       "    <tr>\n",
       "      <th>16565</th>\n",
       "      <td>{}</td>\n",
       "      <td>1801070</td>\n",
       "      <td>[straw mushrooms, coconut milk, chicken stock,...</td>\n",
       "      <td>Thai Mushroom Curry</td>\n",
       "      <td>thai</td>\n",
       "      <td>25.0</td>\n",
       "      <td>https://lh3.googleusercontent.com/pBiJkoVqfj5F...</td>\n",
       "    </tr>\n",
       "    <tr>\n",
       "      <th>16566</th>\n",
       "      <td>{'piquant': 0.0, 'meaty': 0.16666666666666666,...</td>\n",
       "      <td>1781402</td>\n",
       "      <td>[mussels, peanut oil, garlic, minced ginger, T...</td>\n",
       "      <td>Thai Red Curry Mussels</td>\n",
       "      <td>thai</td>\n",
       "      <td>35.0</td>\n",
       "      <td>https://lh3.googleusercontent.com/0lydCPXnUh4N...</td>\n",
       "    </tr>\n",
       "  </tbody>\n",
       "</table>\n",
       "<p>16567 rows × 7 columns</p>\n",
       "</div>"
      ],
      "text/plain": [
       "                                                 flavors  meal_id  \\\n",
       "0      {'piquant': 0.16666666666666666, 'meaty': 0.16...  1048867   \n",
       "1      {'piquant': 0.8333333333333334, 'meaty': 0.666...   822419   \n",
       "2                                                     {}   310062   \n",
       "3      {'piquant': 0.6666666666666666, 'meaty': 1.0, ...  1031197   \n",
       "4                                                     {}   306991   \n",
       "...                                                  ...      ...   \n",
       "16562  {'piquant': 0.16666666666666666, 'meaty': 0.66...  1183636   \n",
       "16563                                                 {}  2058860   \n",
       "16564                                                 {}  1796917   \n",
       "16565                                                 {}  1801070   \n",
       "16566  {'piquant': 0.0, 'meaty': 0.16666666666666666,...  1781402   \n",
       "\n",
       "                                             ingredients  \\\n",
       "0      [dried pasta, milk, shredded cheddar cheese, s...   \n",
       "1      [jalapeno chilies, lemon, dried oregano, olive...   \n",
       "2      [boneless center cut pork chops, salt, ground ...   \n",
       "3      [ground chicken, avocado, chopped garlic, pank...   \n",
       "4      [steak, eggs, buttermilk, flour, vegetable oil...   \n",
       "...                                                  ...   \n",
       "16562  [tilapia fillets, panko breadcrumbs, coconut m...   \n",
       "16563  [dark meat, almond flour, scallions, garlic, f...   \n",
       "16564  [olive oil, onions, red bell pepper, garlic, y...   \n",
       "16565  [straw mushrooms, coconut milk, chicken stock,...   \n",
       "16566  [mussels, peanut oil, garlic, minced ginger, T...   \n",
       "\n",
       "                                              recipeName   cuisine  PrepTime  \\\n",
       "0                             Revolutionary Mac & Cheese  american      45.0   \n",
       "1                                        Chicago Chicken  american      25.0   \n",
       "2                         Pork Chops with Balsamic Glaze  american      25.0   \n",
       "3                                Chicken Avocado Burgers  american      15.0   \n",
       "4                  Country Fried Steak Recipe With Gravy  american      40.0   \n",
       "...                                                  ...       ...       ...   \n",
       "16562                 Fish Sticks with Thai Peanut Sauce      thai      25.0   \n",
       "16563  Grain-free Thai Chicken Meatballs with Coconut...      thai      45.0   \n",
       "16564               Thai Coconut Chicken Red Lentil Soup      thai      50.0   \n",
       "16565                                Thai Mushroom Curry      thai      25.0   \n",
       "16566                             Thai Red Curry Mussels      thai      35.0   \n",
       "\n",
       "                                                     img  \n",
       "0      http://lh3.googleusercontent.com/XR_Pm7z37o_bE...  \n",
       "1      http://lh4.ggpht.com/MWZwpDEiAwju4NPKBTlx4UItD...  \n",
       "2      https://lh3.googleusercontent.com/Li9U8rdiYVI7...  \n",
       "3      http://lh3.googleusercontent.com/Sgul-1UaHFREU...  \n",
       "4      http://lh5.ggpht.com/MI_T7zt3Wk6fyfJkDC4BbJ6Iq...  \n",
       "...                                                  ...  \n",
       "16562  http://lh3.googleusercontent.com/9iE5MT6qkZUzm...  \n",
       "16563  https://lh3.googleusercontent.com/qNA6P8TAZDYC...  \n",
       "16564  https://lh3.googleusercontent.com/W9dmUfOGvhjM...  \n",
       "16565  https://lh3.googleusercontent.com/pBiJkoVqfj5F...  \n",
       "16566  https://lh3.googleusercontent.com/0lydCPXnUh4N...  \n",
       "\n",
       "[16567 rows x 7 columns]"
      ]
     },
     "execution_count": 21,
     "metadata": {},
     "output_type": "execute_result"
    }
   ],
   "source": [
    "mealdf"
   ]
  },
  {
   "cell_type": "code",
   "execution_count": 22,
   "id": "1dc8ffe9",
   "metadata": {},
   "outputs": [
    {
     "data": {
      "text/plain": [
       "count    16567.000000\n",
       "mean        93.184475\n",
       "std        282.122555\n",
       "min          1.000000\n",
       "25%         35.000000\n",
       "50%         50.000000\n",
       "75%         80.000000\n",
       "max       8760.000000\n",
       "Name: PrepTime, dtype: float64"
      ]
     },
     "execution_count": 22,
     "metadata": {},
     "output_type": "execute_result"
    }
   ],
   "source": [
    "# Take a look at some of the general numbers for prep time\n",
    "mealdf['PrepTime'].describe()"
   ]
  },
  {
   "cell_type": "code",
   "execution_count": 23,
   "id": "0b01ab5b",
   "metadata": {},
   "outputs": [
    {
     "data": {
      "text/plain": [
       "cuisine\n",
       "german        267.476429\n",
       "portuguese    168.379252\n",
       "irish         166.649471\n",
       "cuban         135.194368\n",
       "hungarian     109.116667\n",
       "hawaiian       91.755181\n",
       "english        91.272044\n",
       "french         89.611336\n",
       "swedish        83.405556\n",
       "moroccan       80.601610\n",
       "american       76.618318\n",
       "indian         73.051153\n",
       "mexican        72.715306\n",
       "spanish        66.378519\n",
       "chinese        60.907723\n",
       "greek          59.424273\n",
       "japanese       57.100908\n",
       "italian        54.364552\n",
       "thai           47.902736\n",
       "Name: PrepTime, dtype: float64"
      ]
     },
     "execution_count": 23,
     "metadata": {},
     "output_type": "execute_result"
    }
   ],
   "source": [
    "# Examine the average prep time for meals grouped by cuisine\n",
    "mealgroup1 = mealdf['PrepTime'].groupby(mealdf['cuisine']).mean().sort_values(ascending = False)\n",
    "mealgroup1"
   ]
  },
  {
   "cell_type": "code",
   "execution_count": 24,
   "id": "3e7bd655",
   "metadata": {},
   "outputs": [
    {
     "data": {
      "text/plain": [
       "cuisine\n",
       "moroccan      15.736419\n",
       "indian        14.671013\n",
       "spanish       14.377477\n",
       "greek         13.986961\n",
       "thai          13.944276\n",
       "swedish       13.522222\n",
       "cuban         13.476648\n",
       "french        13.296559\n",
       "irish         12.461640\n",
       "chinese       12.274824\n",
       "hungarian     12.223333\n",
       "english       12.121242\n",
       "portuguese    11.918367\n",
       "american      11.579580\n",
       "japanese      11.399596\n",
       "german        11.066199\n",
       "hawaiian      10.510363\n",
       "mexican       10.122449\n",
       "italian        8.871098\n",
       "Name: num_ingredients, dtype: float64"
      ]
     },
     "execution_count": 24,
     "metadata": {},
     "output_type": "execute_result"
    }
   ],
   "source": [
    "# Examine the average number of ingredients grouped by cuisine\n",
    "mealdf['num_ingredients'] = mealdf['ingredients'].apply(len)\n",
    "\n",
    "mealgroup2 = mealdf['num_ingredients'].groupby(mealdf['cuisine']).mean().sort_values(ascending = False)\n",
    "mealgroup2"
   ]
  },
  {
   "cell_type": "code",
   "execution_count": 25,
   "id": "4cd2ae45",
   "metadata": {},
   "outputs": [
    {
     "data": {
      "text/plain": [
       "<seaborn.axisgrid.FacetGrid at 0x7fe42d43ad00>"
      ]
     },
     "execution_count": 25,
     "metadata": {},
     "output_type": "execute_result"
    },
    {
     "data": {
      "image/png": "[encoded data removed]",
      "text/plain": [
       "<Figure size 452.875x360 with 1 Axes>"
      ]
     },
     "metadata": {
      "needs_background": "light"
     },
     "output_type": "display_data"
    }
   ],
   "source": [
    "# Let's visualize the above findings\n",
    "\n",
    "# Creating a new dataframe that pulls together the cuisine times, the average prep times, and average ingredient #s\n",
    "grouped_df = pd.DataFrame({'cuisine' : mealgroup1.index, 'PrepTime' : mealgroup1.values, 'avg_ingredients' : mealgroup2.values})\n",
    "\n",
    "# Creating a scatterplot comparing the average # of ingredients and average prep time by cuisine type\n",
    "cuisineprep_bp = sns.relplot(data = grouped_df,\n",
    "                              x = 'avg_ingredients', \n",
    "                              y = 'PrepTime',\n",
    "                              hue = 'cuisine')\n",
    "\n",
    "cuisineprep_bp.set(xlabel = 'Average Number of Ingredients in Meal',\n",
    "                  ylabel = 'Average Meal Preparation Time', \n",
    "                  title = 'Does prep time increase with number of ingredients?')"
   ]
  },
  {
   "cell_type": "code",
   "execution_count": null,
   "id": "fd2d9650",
   "metadata": {},
   "outputs": [],
   "source": []
  }
 ],
 "metadata": {
  "kernelspec": {
   "display_name": "Python 3 (ipykernel)",
   "language": "python",
   "name": "python3"
  },
  "language_info": {
   "codemirror_mode": {
    "name": "ipython",
    "version": 3
   },
   "file_extension": ".py",
   "mimetype": "text/x-python",
   "name": "python",
   "nbconvert_exporter": "python",
   "pygments_lexer": "ipython3",
   "version": "3.9.12"
  }
 },
 "nbformat": 4,
 "nbformat_minor": 5
}
